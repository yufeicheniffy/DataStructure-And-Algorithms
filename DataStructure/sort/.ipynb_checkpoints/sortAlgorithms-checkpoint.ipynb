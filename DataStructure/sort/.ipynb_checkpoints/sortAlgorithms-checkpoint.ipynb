{
 "cells": [
  {
   "cell_type": "markdown",
   "metadata": {},
   "source": [
    "# 测试数据\n"
   ]
  },
  {
   "cell_type": "code",
   "execution_count": 1,
   "metadata": {},
   "outputs": [
    {
     "name": "stdout",
     "output_type": "stream",
     "text": [
      "[742 899 781 ... 262 152 176]\n"
     ]
    }
   ],
   "source": [
    "import numpy as np\n",
    "import time\n",
    "listSize=10000;\n",
    "np.random.seed=0\n",
    "testArray=np.random.randint(0,1000,listSize)\n",
    "print(testArray)"
   ]
  },
  {
   "cell_type": "code",
   "execution_count": 2,
   "metadata": {},
   "outputs": [
    {
     "name": "stdout",
     "output_type": "stream",
     "text": [
      "[  0   0   0 ... 999 999 999]\n"
     ]
    }
   ],
   "source": [
    "correctSorted=np.sort(testArray)\n",
    "print(correctSorted)"
   ]
  },
  {
   "cell_type": "markdown",
   "metadata": {},
   "source": [
    "# 比较排序\n",
    "比较排序的本质是比较，并且将数组分为未排序部分和已排序部分。\n",
    "\n",
    "一般有两个循环，一个循环遍历数组，一个循环遍历未排序数组。"
   ]
  },
  {
   "cell_type": "markdown",
   "metadata": {},
   "source": [
    "## 冒泡排序"
   ]
  },
  {
   "cell_type": "markdown",
   "metadata": {},
   "source": [
    "两次循环：\n",
    "一个遍历数组\n",
    "一个在未排序部分冒泡"
   ]
  },
  {
   "cell_type": "code",
   "execution_count": 3,
   "metadata": {},
   "outputs": [],
   "source": [
    "def bubbleSort(arrayList):\n",
    "    sortedList=arrayList.copy()\n",
    "    for i in range(len(sortedList)):\n",
    "        for j in range(len(sortedList)-i-1):#每个循环少一个，因为前后比较，需要减1\n",
    "            if(sortedList[j]>sortedList[j+1]):\n",
    "                temp=sortedList[j+1]\n",
    "                sortedList[j+1]=sortedList[j]\n",
    "                sortedList[j]=temp\n",
    "    return sortedList"
   ]
  },
  {
   "cell_type": "code",
   "execution_count": 4,
   "metadata": {},
   "outputs": [
    {
     "name": "stdout",
     "output_type": "stream",
     "text": [
      "duration: 19.52977204322815 s\n"
     ]
    }
   ],
   "source": [
    "start=time.time()\n",
    "bubbleArray=bubbleSort(testArray)\n",
    "end=time.time()\n",
    "print(\"duration:\",end-start,\"s\")"
   ]
  },
  {
   "cell_type": "code",
   "execution_count": 5,
   "metadata": {},
   "outputs": [
    {
     "name": "stdout",
     "output_type": "stream",
     "text": [
      "[  0   0   0 ... 999 999 999]\n",
      "True\n"
     ]
    }
   ],
   "source": [
    "print(bubbleArray)\n",
    "print(np.all(bubbleArray==correctSorted))"
   ]
  },
  {
   "cell_type": "markdown",
   "metadata": {},
   "source": [
    "## 选择排序\n",
    "两个循环，一个找到未排序数组的最大/最小值，一个遍历数组。"
   ]
  },
  {
   "cell_type": "code",
   "execution_count": 6,
   "metadata": {},
   "outputs": [],
   "source": [
    "def selectSort(unsortedList):\n",
    "    arrayList=unsortedList.copy()\n",
    "    for i in range(len(arrayList)):\n",
    "        minValue=arrayList[i]\n",
    "        index=i\n",
    "        for j in range(i,len(arrayList)):\n",
    "            if(arrayList[j]<minValue):\n",
    "                minValue=arrayList[j]\n",
    "                index=j\n",
    "        arrayList[index]=arrayList[i]\n",
    "        arrayList[i]=minValue\n",
    "    return arrayList"
   ]
  },
  {
   "cell_type": "code",
   "execution_count": 7,
   "metadata": {},
   "outputs": [
    {
     "name": "stdout",
     "output_type": "stream",
     "text": [
      "duration: 5.895264148712158 s\n"
     ]
    }
   ],
   "source": [
    "start=time.time()\n",
    "selectArray=selectSort(testArray)\n",
    "end=time.time()\n",
    "print(\"duration:\",end-start,\"s\")"
   ]
  },
  {
   "cell_type": "code",
   "execution_count": 8,
   "metadata": {},
   "outputs": [
    {
     "name": "stdout",
     "output_type": "stream",
     "text": [
      "[  0   0   0 ... 999 999 999]\n",
      "True\n"
     ]
    }
   ],
   "source": [
    "print(selectArray)\n",
    "print(np.all(selectArray==correctSorted))"
   ]
  },
  {
   "cell_type": "markdown",
   "metadata": {},
   "source": [
    "时间上来说，选择比冒泡时间复杂度虽然一样，但是依然比冒泡快不少。因为冒泡的交换是没有意义的。"
   ]
  },
  {
   "cell_type": "markdown",
   "metadata": {},
   "source": [
    "# 利用哈希的排序\n",
    "分而治之"
   ]
  },
  {
   "cell_type": "markdown",
   "metadata": {},
   "source": [
    "## 计数排序\n",
    "每个桶只放一个数，加大空间消耗，减少时间消耗。T复杂度O(max+n)"
   ]
  },
  {
   "cell_type": "code",
   "execution_count": 9,
   "metadata": {},
   "outputs": [],
   "source": [
    "def countSort(unsortedList):\n",
    "    arrayList=unsortedList.copy()\n",
    "    bucket={}\n",
    "    for i in range(len(arrayList)):\n",
    "        if(bucket.get(arrayList[i])!=None):\n",
    "            bucket[arrayList[i]]=bucket[arrayList[i]]+1\n",
    "        else :\n",
    "            bucket.setdefault(arrayList[i],1)\n",
    "    index=0\n",
    "    for j in range(max(arrayList)+1):\n",
    "        if(bucket.get(j)!=None):\n",
    "            for m in range(bucket.get(j)):\n",
    "                arrayList[index]=j\n",
    "                index+=1\n",
    "    return arrayList"
   ]
  },
  {
   "cell_type": "code",
   "execution_count": 10,
   "metadata": {},
   "outputs": [
    {
     "name": "stdout",
     "output_type": "stream",
     "text": [
      "duration: 0.018944263458251953 s\n"
     ]
    }
   ],
   "source": [
    "start=time.time()\n",
    "countArray=countSort(testArray)\n",
    "end=time.time()\n",
    "print(\"duration:\",end-start,\"s\")"
   ]
  },
  {
   "cell_type": "code",
   "execution_count": 11,
   "metadata": {},
   "outputs": [
    {
     "name": "stdout",
     "output_type": "stream",
     "text": [
      "[  0   0   0 ... 999 999 999]\n",
      "True\n"
     ]
    }
   ],
   "source": [
    "print(countArray)\n",
    "print(np.all(countArray==correctSorted))"
   ]
  }
 ],
 "metadata": {
  "kernelspec": {
   "display_name": "Python 3",
   "language": "python",
   "name": "python3"
  },
  "language_info": {
   "codemirror_mode": {
    "name": "ipython",
    "version": 3
   },
   "file_extension": ".py",
   "mimetype": "text/x-python",
   "name": "python",
   "nbconvert_exporter": "python",
   "pygments_lexer": "ipython3",
   "version": "3.6.4"
  }
 },
 "nbformat": 4,
 "nbformat_minor": 2
}
